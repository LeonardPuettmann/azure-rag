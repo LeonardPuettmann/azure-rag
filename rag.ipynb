{
 "cells": [
  {
   "cell_type": "code",
   "execution_count": null,
   "metadata": {},
   "outputs": [],
   "source": [
    "! pip install numpy\n",
    "! pip install openai\n",
    "! pip install python-dotenv\n",
    "! pip install azure-core\n",
    "! pip install azure-cosmos\n",
    "! pip install tenacity\n",
    "! pip install --index-url=https://pkgs.dev.azure.com/azure-sdk/public/_packaging/azure-sdk-for-python/pypi/simple/ azure-search-documents==11.4.0a20230509004"
   ]
  },
  {
   "cell_type": "code",
   "execution_count": 34,
   "metadata": {},
   "outputs": [],
   "source": [
    "import json\n",
    "import datetime\n",
    "import time\n",
    "\n",
    "from azure.core.exceptions import AzureError\n",
    "from azure.core.credentials import AzureKeyCredential\n",
    "from azure.cosmos import exceptions, CosmosClient, PartitionKey\n",
    "from azure.search.documents import SearchClient\n",
    "from azure.search.documents.indexes import SearchIndexClient, SearchIndexerClient\n",
    "from azure.search.documents.models import Vector\n",
    "from azure.search.documents.indexes.models import (\n",
    "    IndexingSchedule,\n",
    "    SearchIndex,\n",
    "    SearchIndexer,\n",
    "    SearchIndexerDataContainer,\n",
    "    SearchField,\n",
    "    SearchFieldDataType,\n",
    "    SearchableField,\n",
    "    SemanticConfiguration,\n",
    "    SimpleField,\n",
    "    PrioritizedFields,\n",
    "    SemanticField,\n",
    "    SemanticSettings,\n",
    "    VectorSearch,\n",
    "    VectorSearchAlgorithmConfiguration,\n",
    "    SearchIndexerDataSourceConnection\n",
    ")\n",
    "\n",
    "import openai\n",
    "from tenacity import retry, wait_random_exponential, stop_after_attempt"
   ]
  },
  {
   "cell_type": "code",
   "execution_count": 36,
   "metadata": {},
   "outputs": [],
   "source": [
    "from dotenv import dotenv_values\n",
    "\n",
    "# specify the name of the .env file name \n",
    "env_name = \"rag.env\" # following example.env template change to your own .env file name\n",
    "config = dotenv_values(env_name)\n",
    "\n",
    "cosmosdb_endpoint = config['cosmos_db_api_endpoint']\n",
    "cosmosdb_key = config['cosmos_db_api_key']\n",
    "cosmosdb_connection_str = config['cosmos_db_connection_string']\n",
    "\n",
    "cog_search_endpoint = config['cognitive_search_api_endpoint']\n",
    "cog_search_key = config['cognitive_search_api_key']\n",
    "\n",
    "openai.api_type = config['openai_api_type']\n",
    "openai.api_key = config['openai_api_key']\n",
    "openai.api_base = config['openai_api_endpoint']\n",
    "openai.api_version = config['openai_api_version']\n",
    "embeddings_deployment = config['openai_embeddings_deployment']\n",
    "completions_deployment = config['openai_completions_deployment']"
   ]
  },
  {
   "cell_type": "code",
   "execution_count": 6,
   "metadata": {},
   "outputs": [
    {
     "name": "stderr",
     "output_type": "stream",
     "text": [
      "Downloading builder script: 100%|██████████| 5.28k/5.28k [00:00<00:00, 5.22MB/s]\n",
      "Downloading metadata: 100%|██████████| 2.40k/2.40k [00:00<?, ?B/s]\n",
      "Downloading readme: 100%|██████████| 8.02k/8.02k [00:00<?, ?B/s]\n",
      "Downloading data: 42.1MB [00:01, 28.3MB/s]/2 [00:00<?, ?it/s]\n",
      "Downloading data: 4.37MB [00:00, 33.8MB/s]/2 [00:02<00:02,  2.71s/it]\n",
      "Downloading data files: 100%|██████████| 2/2 [00:03<00:00,  1.63s/it]\n",
      "Extracting data files: 100%|██████████| 2/2 [00:00<00:00, 169.52it/s]\n",
      "Generating train split: 100%|██████████| 130319/130319 [00:04<00:00, 28626.70 examples/s]\n",
      "Generating validation split: 100%|██████████| 11873/11873 [00:00<00:00, 29236.26 examples/s]\n"
     ]
    }
   ],
   "source": [
    "from datasets import load_dataset\n",
    "import pandas as pd \n",
    "\n",
    "dataset = load_dataset(\"squad_v2\")\n",
    "df = pd.DataFrame.from_dict(dataset[\"train\"])"
   ]
  },
  {
   "cell_type": "code",
   "execution_count": 20,
   "metadata": {},
   "outputs": [],
   "source": [
    "samurai_df = df[df[\"title\"] == \"Samurai\"]"
   ]
  },
  {
   "cell_type": "code",
   "execution_count": 30,
   "metadata": {},
   "outputs": [],
   "source": [
    "from sentence_transformers import SentenceTransformer\n",
    "\n",
    "model = SentenceTransformer(\"intfloat/e5-small-v2\")\n",
    "\n",
    "#Our sentences we like to encode\n",
    "sentences = samurai_df.question.tolist()\n",
    "\n",
    "#Sentences are encoded by calling model.encode()\n",
    "samurai_questions_embedded = model.encode(sentences)"
   ]
  },
  {
   "cell_type": "code",
   "execution_count": 40,
   "metadata": {},
   "outputs": [],
   "source": [
    "data = {\n",
    "    \"embeddings\": samurai_questions_embedded,\n",
    "    \"payload\": sentences\n",
    "}"
   ]
  },
  {
   "cell_type": "markdown",
   "metadata": {},
   "source": [
    "## Upload data to Cosmos DB"
   ]
  },
  {
   "cell_type": "code",
   "execution_count": 37,
   "metadata": {},
   "outputs": [],
   "source": [
    "# Create the client to interact with the Azure Cosmos DB resource\n",
    "client = CosmosClient(cosmosdb_endpoint, cosmosdb_key)"
   ]
  },
  {
   "cell_type": "code",
   "execution_count": 38,
   "metadata": {},
   "outputs": [
    {
     "name": "stdout",
     "output_type": "stream",
     "text": [
      "Database created: cosmosvectorstore\n"
     ]
    }
   ],
   "source": [
    "# Create a database in Azure Cosmos DB.\n",
    "try:\n",
    "    database = client.create_database_if_not_exists(id=\"cosmosvectorstore\")\n",
    "    print(f\"Database created: {database.id}\")\n",
    "\n",
    "except exceptions.CosmosResourceExistsError:\n",
    "    print(\"Database already exists.\")"
   ]
  },
  {
   "cell_type": "code",
   "execution_count": 39,
   "metadata": {},
   "outputs": [
    {
     "name": "stdout",
     "output_type": "stream",
     "text": [
      "Container created: AzureServices\n"
     ]
    }
   ],
   "source": [
    "# Create a container in Azure Cosmos DB.\n",
    "try:\n",
    "    partition_key_path = PartitionKey(path=\"/id\")\n",
    "    container = database.create_container_if_not_exists(\n",
    "        id=\"AzureServices\",\n",
    "        partition_key=partition_key_path,\n",
    "        offer_throughput=400,\n",
    "    )\n",
    "    print(f\"Container created: {container.id}\")\n",
    "\n",
    "except exceptions.CosmosResourceExistsError:\n",
    "    print(\"Container already exists.\")"
   ]
  },
  {
   "cell_type": "code",
   "execution_count": 42,
   "metadata": {},
   "outputs": [
    {
     "ename": "AttributeError",
     "evalue": "'str' object has no attribute 'get'",
     "output_type": "error",
     "traceback": [
      "\u001b[1;31m---------------------------------------------------------------------------\u001b[0m",
      "\u001b[1;31mAttributeError\u001b[0m                            Traceback (most recent call last)",
      "\u001b[1;32mc:\\Users\\leopu\\OneDrive\\Programming\\Python\\azure\\azure-rag\\rag.ipynb Cell 12\u001b[0m line \u001b[0;36m4\n\u001b[0;32m      <a href='vscode-notebook-cell:/c%3A/Users/leopu/OneDrive/Programming/Python/azure/azure-rag/rag.ipynb#X30sZmlsZQ%3D%3D?line=1'>2</a>\u001b[0m \u001b[39mfor\u001b[39;00m data_item \u001b[39min\u001b[39;00m data:\n\u001b[0;32m      <a href='vscode-notebook-cell:/c%3A/Users/leopu/OneDrive/Programming/Python/azure/azure-rag/rag.ipynb#X30sZmlsZQ%3D%3D?line=2'>3</a>\u001b[0m     \u001b[39mtry\u001b[39;00m:\n\u001b[1;32m----> <a href='vscode-notebook-cell:/c%3A/Users/leopu/OneDrive/Programming/Python/azure/azure-rag/rag.ipynb#X30sZmlsZQ%3D%3D?line=3'>4</a>\u001b[0m         container\u001b[39m.\u001b[39;49mcreate_item(body\u001b[39m=\u001b[39;49mdata_item)\n\u001b[0;32m      <a href='vscode-notebook-cell:/c%3A/Users/leopu/OneDrive/Programming/Python/azure/azure-rag/rag.ipynb#X30sZmlsZQ%3D%3D?line=5'>6</a>\u001b[0m     \u001b[39mexcept\u001b[39;00m exceptions\u001b[39m.\u001b[39mCosmosResourceExistsError:\n\u001b[0;32m      <a href='vscode-notebook-cell:/c%3A/Users/leopu/OneDrive/Programming/Python/azure/azure-rag/rag.ipynb#X30sZmlsZQ%3D%3D?line=6'>7</a>\u001b[0m         \u001b[39mprint\u001b[39m(\u001b[39m\"\u001b[39m\u001b[39mData item already exists.\u001b[39m\u001b[39m\"\u001b[39m)\n",
      "File \u001b[1;32mc:\\Users\\leopu\\OneDrive\\Programming\\Python\\azure\\azure-rag\\azure-rag-env\\lib\\site-packages\\azure\\core\\tracing\\decorator.py:78\u001b[0m, in \u001b[0;36mdistributed_trace.<locals>.decorator.<locals>.wrapper_use_tracer\u001b[1;34m(*args, **kwargs)\u001b[0m\n\u001b[0;32m     76\u001b[0m span_impl_type \u001b[39m=\u001b[39m settings\u001b[39m.\u001b[39mtracing_implementation()\n\u001b[0;32m     77\u001b[0m \u001b[39mif\u001b[39;00m span_impl_type \u001b[39mis\u001b[39;00m \u001b[39mNone\u001b[39;00m:\n\u001b[1;32m---> 78\u001b[0m     \u001b[39mreturn\u001b[39;00m func(\u001b[39m*\u001b[39margs, \u001b[39m*\u001b[39m\u001b[39m*\u001b[39mkwargs)\n\u001b[0;32m     80\u001b[0m \u001b[39m# Merge span is parameter is set, but only if no explicit parent are passed\u001b[39;00m\n\u001b[0;32m     81\u001b[0m \u001b[39mif\u001b[39;00m merge_span \u001b[39mand\u001b[39;00m \u001b[39mnot\u001b[39;00m passed_in_parent:\n",
      "File \u001b[1;32mc:\\Users\\leopu\\OneDrive\\Programming\\Python\\azure\\azure-rag\\azure-rag-env\\lib\\site-packages\\azure\\cosmos\\container.py:572\u001b[0m, in \u001b[0;36mContainerProxy.create_item\u001b[1;34m(self, body, populate_query_metrics, pre_trigger_include, post_trigger_include, indexing_directive, **kwargs)\u001b[0m\n\u001b[0;32m    569\u001b[0m \u001b[39mif\u001b[39;00m indexing_directive \u001b[39mis\u001b[39;00m \u001b[39mnot\u001b[39;00m \u001b[39mNone\u001b[39;00m:\n\u001b[0;32m    570\u001b[0m     request_options[\u001b[39m\"\u001b[39m\u001b[39mindexingDirective\u001b[39m\u001b[39m\"\u001b[39m] \u001b[39m=\u001b[39m indexing_directive\n\u001b[1;32m--> 572\u001b[0m result \u001b[39m=\u001b[39m \u001b[39mself\u001b[39m\u001b[39m.\u001b[39mclient_connection\u001b[39m.\u001b[39mCreateItem(\n\u001b[0;32m    573\u001b[0m     database_or_container_link\u001b[39m=\u001b[39m\u001b[39mself\u001b[39m\u001b[39m.\u001b[39mcontainer_link, document\u001b[39m=\u001b[39mbody, options\u001b[39m=\u001b[39mrequest_options, \u001b[39m*\u001b[39m\u001b[39m*\u001b[39mkwargs\n\u001b[0;32m    574\u001b[0m )\n\u001b[0;32m    575\u001b[0m \u001b[39mif\u001b[39;00m response_hook:\n\u001b[0;32m    576\u001b[0m     response_hook(\u001b[39mself\u001b[39m\u001b[39m.\u001b[39mclient_connection\u001b[39m.\u001b[39mlast_response_headers, result)\n",
      "File \u001b[1;32mc:\\Users\\leopu\\OneDrive\\Programming\\Python\\azure\\azure-rag\\azure-rag-env\\lib\\site-packages\\azure\\cosmos\\_cosmos_client_connection.py:1120\u001b[0m, in \u001b[0;36mCosmosClientConnection.CreateItem\u001b[1;34m(self, database_or_container_link, document, options, **kwargs)\u001b[0m\n\u001b[0;32m   1116\u001b[0m     options \u001b[39m=\u001b[39m {}\n\u001b[0;32m   1118\u001b[0m \u001b[39m# We check the link to be document collection link since it can be database\u001b[39;00m\n\u001b[0;32m   1119\u001b[0m \u001b[39m# link in case of client side partitioning\u001b[39;00m\n\u001b[1;32m-> 1120\u001b[0m collection_id, document, path \u001b[39m=\u001b[39m \u001b[39mself\u001b[39;49m\u001b[39m.\u001b[39;49m_GetContainerIdWithPathForItem(\n\u001b[0;32m   1121\u001b[0m     database_or_container_link, document, options\n\u001b[0;32m   1122\u001b[0m )\n\u001b[0;32m   1124\u001b[0m \u001b[39mif\u001b[39;00m base\u001b[39m.\u001b[39mIsItemContainerLink(database_or_container_link):\n\u001b[0;32m   1125\u001b[0m     options \u001b[39m=\u001b[39m \u001b[39mself\u001b[39m\u001b[39m.\u001b[39m_AddPartitionKey(database_or_container_link, document, options)\n",
      "File \u001b[1;32mc:\\Users\\leopu\\OneDrive\\Programming\\Python\\azure\\azure-rag\\azure-rag-env\\lib\\site-packages\\azure\\cosmos\\_cosmos_client_connection.py:1184\u001b[0m, in \u001b[0;36mCosmosClientConnection._GetContainerIdWithPathForItem\u001b[1;34m(self, database_or_container_link, document, options)\u001b[0m\n\u001b[0;32m   1181\u001b[0m \u001b[39mif\u001b[39;00m document \u001b[39mis\u001b[39;00m \u001b[39mNone\u001b[39;00m:\n\u001b[0;32m   1182\u001b[0m     \u001b[39mraise\u001b[39;00m \u001b[39mValueError\u001b[39;00m(\u001b[39m\"\u001b[39m\u001b[39mdocument is None.\u001b[39m\u001b[39m\"\u001b[39m)\n\u001b[1;32m-> 1184\u001b[0m CosmosClientConnection\u001b[39m.\u001b[39;49m__ValidateResource(document)\n\u001b[0;32m   1185\u001b[0m document \u001b[39m=\u001b[39m document\u001b[39m.\u001b[39mcopy()\n\u001b[0;32m   1186\u001b[0m \u001b[39mif\u001b[39;00m \u001b[39mnot\u001b[39;00m document\u001b[39m.\u001b[39mget(\u001b[39m\"\u001b[39m\u001b[39mid\u001b[39m\u001b[39m\"\u001b[39m) \u001b[39mand\u001b[39;00m \u001b[39mnot\u001b[39;00m options\u001b[39m.\u001b[39mget(\u001b[39m\"\u001b[39m\u001b[39mdisableAutomaticIdGeneration\u001b[39m\u001b[39m\"\u001b[39m):\n",
      "File \u001b[1;32mc:\\Users\\leopu\\OneDrive\\Programming\\Python\\azure\\azure-rag\\azure-rag-env\\lib\\site-packages\\azure\\cosmos\\_cosmos_client_connection.py:2615\u001b[0m, in \u001b[0;36mCosmosClientConnection.__ValidateResource\u001b[1;34m(resource)\u001b[0m\n\u001b[0;32m   2613\u001b[0m \u001b[39m@staticmethod\u001b[39m\n\u001b[0;32m   2614\u001b[0m \u001b[39mdef\u001b[39;00m \u001b[39m__ValidateResource\u001b[39m(resource):\n\u001b[1;32m-> 2615\u001b[0m     id_ \u001b[39m=\u001b[39m resource\u001b[39m.\u001b[39;49mget(\u001b[39m\"\u001b[39m\u001b[39mid\u001b[39m\u001b[39m\"\u001b[39m)\n\u001b[0;32m   2616\u001b[0m     \u001b[39mif\u001b[39;00m id_:\n\u001b[0;32m   2617\u001b[0m         \u001b[39mtry\u001b[39;00m:\n",
      "\u001b[1;31mAttributeError\u001b[0m: 'str' object has no attribute 'get'"
     ]
    }
   ],
   "source": [
    "# Create data items for every entry in the dataset, insert them into the database and collection specified above.\n",
    "for data_item in data:\n",
    "    try:\n",
    "        container.create_item(body=data_item)\n",
    "    \n",
    "    except exceptions.CosmosResourceExistsError:\n",
    "        print(\"Data item already exists.\")"
   ]
  }
 ],
 "metadata": {
  "kernelspec": {
   "display_name": "azure-rag-env",
   "language": "python",
   "name": "python3"
  },
  "language_info": {
   "codemirror_mode": {
    "name": "ipython",
    "version": 3
   },
   "file_extension": ".py",
   "mimetype": "text/x-python",
   "name": "python",
   "nbconvert_exporter": "python",
   "pygments_lexer": "ipython3",
   "version": "3.9.0"
  }
 },
 "nbformat": 4,
 "nbformat_minor": 2
}
