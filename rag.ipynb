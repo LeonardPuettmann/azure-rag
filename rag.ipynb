{
 "cells": [
  {
   "cell_type": "code",
   "execution_count": null,
   "metadata": {},
   "outputs": [],
   "source": [
    "! pip install numpy\n",
    "! pip install openai\n",
    "! pip install python-dotenv\n",
    "! pip install azure-core\n",
    "! pip install azure-cosmos\n",
    "! pip install tenacity\n",
    "! pip install --index-url=https://pkgs.dev.azure.com/azure-sdk/public/_packaging/azure-sdk-for-python/pypi/simple/ azure-search-documents==11.4.0a20230509004"
   ]
  },
  {
   "cell_type": "code",
   "execution_count": 1,
   "metadata": {},
   "outputs": [],
   "source": [
    "import json\n",
    "import datetime\n",
    "import time\n",
    "\n",
    "from azure.core.exceptions import AzureError\n",
    "from azure.core.credentials import AzureKeyCredential\n",
    "from azure.cosmos import exceptions, CosmosClient, PartitionKey\n",
    "from azure.search.documents import SearchClient\n",
    "from azure.search.documents.indexes import SearchIndexClient, SearchIndexerClient\n",
    "from azure.search.documents.models import Vector\n",
    "from azure.search.documents.indexes.models import (\n",
    "    IndexingSchedule,\n",
    "    SearchIndex,\n",
    "    SearchIndexer,\n",
    "    SearchIndexerDataContainer,\n",
    "    SearchField,\n",
    "    SearchFieldDataType,\n",
    "    SearchableField,\n",
    "    SemanticConfiguration,\n",
    "    SimpleField,\n",
    "    PrioritizedFields,\n",
    "    SemanticField,\n",
    "    SemanticSettings,\n",
    "    VectorSearch,\n",
    "    VectorSearchAlgorithmConfiguration,\n",
    "    SearchIndexerDataSourceConnection\n",
    ")\n",
    "\n",
    "import openai\n",
    "from tenacity import retry, wait_random_exponential, stop_after_attempt"
   ]
  },
  {
   "cell_type": "code",
   "execution_count": 2,
   "metadata": {},
   "outputs": [],
   "source": [
    "from dotenv import dotenv_values\n",
    "\n",
    "# specify the name of the .env file name \n",
    "env_name = \"rag.env\" # following example.env template change to your own .env file name\n",
    "config = dotenv_values(env_name)\n",
    "\n",
    "cosmosdb_endpoint = config['cosmos_db_api_endpoint']\n",
    "cosmosdb_key = config['cosmos_db_api_key']\n",
    "cosmosdb_connection_str = config['cosmos_db_connection_string']\n",
    "\n",
    "cog_search_endpoint = config['cognitive_search_api_endpoint']\n",
    "cog_search_key = config['cognitive_search_api_key']\n",
    "\n",
    "openai.api_type = config['openai_api_type']\n",
    "openai.api_key = config['openai_api_key']\n",
    "openai.api_base = config['openai_api_endpoint']\n",
    "openai.api_version = config['openai_api_version']\n",
    "embeddings_deployment = config['openai_embeddings_deployment']\n",
    "completions_deployment = config['openai_completions_deployment']"
   ]
  },
  {
   "cell_type": "code",
   "execution_count": 3,
   "metadata": {},
   "outputs": [
    {
     "name": "stderr",
     "output_type": "stream",
     "text": [
      "c:\\Users\\leopu\\OneDrive\\Programming\\Python\\azure\\azure-rag\\azure-rag-env\\lib\\site-packages\\tqdm\\auto.py:21: TqdmWarning: IProgress not found. Please update jupyter and ipywidgets. See https://ipywidgets.readthedocs.io/en/stable/user_install.html\n",
      "  from .autonotebook import tqdm as notebook_tqdm\n"
     ]
    }
   ],
   "source": [
    "# from datasets import load_dataset\n",
    "# import pandas as pd \n",
    "\n",
    "# dataset = load_dataset(\"squad_v2\")\n",
    "# df = pd.DataFrame.from_dict(dataset[\"train\"])\n",
    "\n",
    "# samurai_df = df[df[\"title\"] == \"Samurai\"]\n",
    "\n",
    "# #Our sentences we like to encode\n",
    "# sentences = samurai_df.question.tolist()\n",
    "\n",
    "# #Sentences are encoded by calling model.encode()\n",
    "# samurai_questions_embedded = model.encode(sentences)\n",
    "\n",
    "# data = {\n",
    "#     \"embeddings\": samurai_questions_embedded, # this is a list\n",
    "#     \"payload\": sentences, # this is also a list\n",
    "#     \"@search.action\": [\"upload\"] * len(samurai_questions_embedded)\n",
    "# }"
   ]
  },
  {
   "cell_type": "code",
   "execution_count": 23,
   "metadata": {},
   "outputs": [],
   "source": [
    "# Load text-sample.json data file\n",
    "data_file = open(file=\"text-sample.json\", mode=\"r\")\n",
    "#data_file = open(file=\"../../DataSet/AzureServices/text-sample_w_embeddings.json\", mode=\"r\") # load this file instead if embeddings were previously created and saved.\n",
    "data = json.load(data_file)\n",
    "data_file.close()"
   ]
  },
  {
   "cell_type": "code",
   "execution_count": 24,
   "metadata": {},
   "outputs": [
    {
     "name": "stdout",
     "output_type": "stream",
     "text": [
      "{'id': '1', 'title': 'Azure App Service', 'content': 'Azure App Service is a fully managed platform for building, deploying, and scaling web apps. You can host web apps, mobile app backends, and RESTful APIs. It supports a variety of programming languages and frameworks, such as .NET, Java, Node.js, Python, and PHP. The service offers built-in auto-scaling and load balancing capabilities. It also provides integration with other Azure services, such as Azure DevOps, GitHub, and Bitbucket.', 'category': 'Web'}\n"
     ]
    }
   ],
   "source": [
    "# Take a peek at one data item\n",
    "print(data[0])"
   ]
  },
  {
   "cell_type": "code",
   "execution_count": 9,
   "metadata": {},
   "outputs": [
    {
     "name": "stderr",
     "output_type": "stream",
     "text": [
      "c:\\Users\\leopu\\OneDrive\\Programming\\Python\\azure\\azure-rag\\azure-rag-env\\lib\\site-packages\\tqdm\\auto.py:21: TqdmWarning: IProgress not found. Please update jupyter and ipywidgets. See https://ipywidgets.readthedocs.io/en/stable/user_install.html\n",
      "  from .autonotebook import tqdm as notebook_tqdm\n"
     ]
    }
   ],
   "source": [
    "from sentence_transformers import SentenceTransformer\n",
    "model = SentenceTransformer(\"intfloat/e5-small-v2\")\n",
    "\n",
    "def generate_embeddings(text):\n",
    "    return model.encode(text)"
   ]
  },
  {
   "cell_type": "code",
   "execution_count": 34,
   "metadata": {},
   "outputs": [],
   "source": [
    "# Generate embeddings for title and content fields\n",
    "for item in data:\n",
    "    title = item['title']\n",
    "    content = item['content']\n",
    "    title_embeddings = generate_embeddings(title)\n",
    "    content_embeddings = generate_embeddings(content)\n",
    "    item['titleVector'] = title_embeddings.tolist()\n",
    "    item['contentVector'] = content_embeddings.tolist()\n",
    "    item['@search.action'] = 'upload'\n",
    "\n",
    "# Save embeddings to sample_text_w_embeddings.json file\n",
    "with open(\"text-sample_w_embeddings.json\", \"w\") as f:\n",
    "    json.dump(data, f)"
   ]
  },
  {
   "cell_type": "markdown",
   "metadata": {},
   "source": [
    "## Upload data to Cosmos DB"
   ]
  },
  {
   "cell_type": "code",
   "execution_count": 10,
   "metadata": {},
   "outputs": [],
   "source": [
    "# Create the client to interact with the Azure Cosmos DB resource\n",
    "client = CosmosClient(cosmosdb_endpoint, cosmosdb_key)"
   ]
  },
  {
   "cell_type": "code",
   "execution_count": 11,
   "metadata": {},
   "outputs": [
    {
     "name": "stdout",
     "output_type": "stream",
     "text": [
      "Database created: cosmosvectorstore\n"
     ]
    }
   ],
   "source": [
    "# Create a database in Azure Cosmos DB.\n",
    "try:\n",
    "    database = client.create_database_if_not_exists(id=\"cosmosvectorstore\")\n",
    "    print(f\"Database created: {database.id}\")\n",
    "\n",
    "except exceptions.CosmosResourceExistsError:\n",
    "    print(\"Database already exists.\")"
   ]
  },
  {
   "cell_type": "code",
   "execution_count": 12,
   "metadata": {},
   "outputs": [
    {
     "name": "stdout",
     "output_type": "stream",
     "text": [
      "Container created: AzureServices\n"
     ]
    }
   ],
   "source": [
    "# Create a container in Azure Cosmos DB.\n",
    "try:\n",
    "    partition_key_path = PartitionKey(path=\"/id\")\n",
    "    container = database.create_container_if_not_exists(\n",
    "        id=\"AzureServices\",\n",
    "        partition_key=partition_key_path,\n",
    "        offer_throughput=400,\n",
    "    )\n",
    "    print(f\"Container created: {container.id}\")\n",
    "\n",
    "except exceptions.CosmosResourceExistsError:\n",
    "    print(\"Container already exists.\")"
   ]
  },
  {
   "cell_type": "code",
   "execution_count": 36,
   "metadata": {},
   "outputs": [],
   "source": [
    "# Create data items for every entry in the dataset, insert them into the database and collection specified above.\n",
    "for data_item in data:\n",
    "    try:\n",
    "        container.create_item(body=data_item)\n",
    "    \n",
    "    except exceptions.CosmosResourceExistsError:\n",
    "        print(\"Data item already exists.\")"
   ]
  },
  {
   "cell_type": "markdown",
   "metadata": {},
   "source": [
    "## Create search index in CognitiveSearch"
   ]
  },
  {
   "cell_type": "code",
   "execution_count": 3,
   "metadata": {},
   "outputs": [
    {
     "name": "stdout",
     "output_type": "stream",
     "text": [
      "cosmosdb-vector-search-index created\n"
     ]
    }
   ],
   "source": [
    "# Create index\n",
    "cog_search_cred = AzureKeyCredential(cog_search_key)\n",
    "index_name = \"cosmosdb-vector-search-index\"\n",
    "\n",
    "# Create a search index and define the schema (names, types, and parameters)\n",
    "index_client = SearchIndexClient(\n",
    "    endpoint=cog_search_endpoint, credential=cog_search_cred)\n",
    "fields = [\n",
    "    SimpleField(name=\"id\", type=SearchFieldDataType.String, key=True),\n",
    "    SearchableField(name=\"title\", type=SearchFieldDataType.String,\n",
    "                    searchable=True, retrievable=True),\n",
    "    SearchableField(name=\"content\", type=SearchFieldDataType.String,\n",
    "                    searchable=True, retrievable=True),\n",
    "    SearchableField(name=\"category\", type=SearchFieldDataType.String,\n",
    "                    filterable=True, searchable=True, retrievable=True),\n",
    "    SearchField(name=\"titleVector\", type=SearchFieldDataType.Collection(SearchFieldDataType.Single),\n",
    "                searchable=True, dimensions=384, vector_search_configuration=\"my-vector-config\"),\n",
    "    SearchField(name=\"contentVector\", type=SearchFieldDataType.Collection(SearchFieldDataType.Single),\n",
    "                searchable=True, dimensions=384, vector_search_configuration=\"my-vector-config\"),\n",
    "]\n",
    "\n",
    "# Configure vector search\n",
    "vector_search = VectorSearch(\n",
    "    algorithm_configurations=[\n",
    "        VectorSearchAlgorithmConfiguration(\n",
    "            name=\"my-vector-config\",\n",
    "            kind=\"hnsw\",\n",
    "            hnsw_parameters={\n",
    "                \"m\": 4,\n",
    "                \"efConstruction\": 400,\n",
    "                \"efSearch\": 1000,\n",
    "                \"metric\": \"cosine\"\n",
    "            }\n",
    "        )\n",
    "    ]\n",
    ")\n",
    "\n",
    "# Configure semantic search. This will allow us to conduct semantic or hybrid search (with vector search) later on if desired.\n",
    "semantic_config = SemanticConfiguration(\n",
    "    name=\"my-semantic-config\",\n",
    "    prioritized_fields=PrioritizedFields(\n",
    "        title_field=SemanticField(field_name=\"title\"),\n",
    "        prioritized_keywords_fields=[SemanticField(field_name=\"category\")],\n",
    "        prioritized_content_fields=[SemanticField(field_name=\"content\")]\n",
    "    )\n",
    ")\n",
    "\n",
    "# Create the semantic settings with the configuration\n",
    "semantic_settings = SemanticSettings(configurations=[semantic_config])\n",
    "\n",
    "# Create the search index with the semantic settings\n",
    "index = SearchIndex(name=index_name, fields=fields,\n",
    "                    vector_search=vector_search, semantic_settings=semantic_settings)\n",
    "result = index_client.create_or_update_index(index)\n",
    "print(f'{result.name} created')"
   ]
  },
  {
   "cell_type": "code",
   "execution_count": 5,
   "metadata": {},
   "outputs": [
    {
     "name": "stdout",
     "output_type": "stream",
     "text": [
      "{'additional_properties': {'@odata.context': 'https://cognitivevectorsearch.search.windows.net/$metadata#indexers/$entity'}, 'name': 'cosmosdb-tutorial-indexer', 'description': None, 'data_source_name': 'cosmosdb-tutorial-indexer', 'skillset_name': None, 'target_index_name': 'cosmosdb-vector-search-index', 'schedule': None, 'parameters': None, 'field_mappings': [], 'output_field_mappings': [], 'is_disabled': False, 'e_tag': '\"0x8DBE934CD170578\"', 'encryption_key': None, 'cache': None}\n"
     ]
    }
   ],
   "source": [
    "# create an indexer to pull data from CosmosDB into Cognitive Search \n",
    "def _create_datasource():\n",
    "    # Here we create a datasource. \n",
    "    ds_client = SearchIndexerClient(cog_search_endpoint, cog_search_cred)\n",
    "    container = SearchIndexerDataContainer(name=\"AzureServices\")\n",
    "    data_source_connection = SearchIndexerDataSourceConnection(\n",
    "        name=\"cosmosdb-tutorial-indexer\", type=\"cosmosdb\", connection_string=cosmosdb_connection_str, container=container\n",
    "    )\n",
    "    data_source = ds_client.create_or_update_data_source_connection(data_source_connection)\n",
    "    return data_source\n",
    "\n",
    "ds_name = _create_datasource().name\n",
    "\n",
    "indexer = SearchIndexer(\n",
    "        name=\"cosmosdb-tutorial-indexer\",\n",
    "        data_source_name=ds_name,\n",
    "        target_index_name=index_name)\n",
    "\n",
    "indexer_client = SearchIndexerClient(cog_search_endpoint, cog_search_cred)\n",
    "indexer_client.create_or_update_indexer(indexer)  # create the indexer\n",
    "\n",
    "result = indexer_client.get_indexer(\"cosmosdb-tutorial-indexer\")\n",
    "print(result)\n",
    "\n",
    "# Run the indexer we just created.\n",
    "indexer_client.run_indexer(result.name)"
   ]
  },
  {
   "cell_type": "code",
   "execution_count": 7,
   "metadata": {},
   "outputs": [],
   "source": [
    "# simple function to assist with vector search\n",
    "def vector_search(query):\n",
    "    search_client = SearchClient(cog_search_endpoint, index_name, cog_search_cred)\n",
    "    results = search_client.search(\n",
    "        search_text=\"\",\n",
    "        vector=Vector(value=generate_embeddings(query), k=3, fields=\"contentVector\"),\n",
    "        select=[\"title\", \"content\", \"category\"]\n",
    "    )\n",
    "    return results"
   ]
  },
  {
   "cell_type": "code",
   "execution_count": 11,
   "metadata": {},
   "outputs": [
    {
     "name": "stdout",
     "output_type": "stream",
     "text": [
      "Title: Azure Functions\n",
      "Score: 0.8505801\n",
      "Content: Azure Functions is a serverless compute service that enables you to run code on-demand without having to manage infrastructure. It allows you to build and deploy event-driven applications that automatically scale with your workload. Functions support various languages, including C#, F#, Node.js, Python, and Java. It offers a variety of triggers and bindings to integrate with other Azure services and external services. You only pay for the compute time you consume.\n",
      "Category: Compute\n",
      "\n",
      "Title: Azure Web PubSub\n",
      "Score: 0.8489944\n",
      "Content: Azure Web PubSub is a fully managed, real-time messaging service that enables you to build and scale real-time web applications using WebSockets. It provides features like automatic scaling, custom domains, and serverless integration. Web PubSub supports various programming languages, such as C#, JavaScript, and Java. You can use Azure Web PubSub to build chat applications, real-time dashboards, and collaborative tools. It also integrates with other Azure services, such as Azure Functions and Azure SignalR Service.\n",
      "Category: Web\n",
      "\n",
      "Title: Azure Functions\n",
      "Score: 0.8475361\n",
      "Content: Azure Functions is a serverless compute service that enables you to run event-driven code without managing the underlying infrastructure. It provides features like automatic scaling, triggers, and bindings. Functions supports various programming languages, such as C#, Java, and Python. You can use Azure Functions to build microservices, integrate with other Azure services, and process and transform data. It also integrates with other Azure services, such as Azure Event Hubs, Azure Storage, and Azure Cosmos DB.\n",
      "Category: Compute\n",
      "\n"
     ]
    }
   ],
   "source": [
    "query = \"serverless tools for software development\"  \n",
    "results = vector_search(query)\n",
    "for result in results:  \n",
    "    print(f\"Title: {result['title']}\")  \n",
    "    print(f\"Score: {result['@search.score']}\")  \n",
    "    print(f\"Content: {result['content']}\")  \n",
    "    print(f\"Category: {result['category']}\\n\")  "
   ]
  },
  {
   "cell_type": "code",
   "execution_count": null,
   "metadata": {},
   "outputs": [],
   "source": []
  }
 ],
 "metadata": {
  "kernelspec": {
   "display_name": "azure-rag-env",
   "language": "python",
   "name": "python3"
  },
  "language_info": {
   "codemirror_mode": {
    "name": "ipython",
    "version": 3
   },
   "file_extension": ".py",
   "mimetype": "text/x-python",
   "name": "python",
   "nbconvert_exporter": "python",
   "pygments_lexer": "ipython3",
   "version": "3.9.0"
  }
 },
 "nbformat": 4,
 "nbformat_minor": 2
}
